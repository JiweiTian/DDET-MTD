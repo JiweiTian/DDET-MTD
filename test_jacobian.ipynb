{
 "cells": [
  {
   "cell_type": "markdown",
   "metadata": {},
   "source": [
    "# Verify the Jacobian Approximation of Measurement Equation"
   ]
  },
  {
   "cell_type": "code",
   "execution_count": 277,
   "metadata": {},
   "outputs": [],
   "source": [
    "from pypower.api import case14,ext2int, makeYbus, runopf\n",
    "from pypower.idx_brch import *\n",
    "from pypower.idx_bus import *\n",
    "import scipy\n",
    "import numpy as np\n",
    "import matplotlib.pyplot as plt"
   ]
  },
  {
   "cell_type": "code",
   "execution_count": 332,
   "metadata": {},
   "outputs": [],
   "source": [
    "case = case14()\n",
    "# No transformer\n",
    "case['branch'][:,TAP] = 0\n",
    "case['branch'][:,SHIFT] = 0\n",
    "#case['branch'][:,BR_B] = 0\n",
    "case['bus'][:,GS] = 0\n",
    "case['bus'][:,BS] = 0\n",
    "case_int = ext2int(case)\n",
    "ys = 1/(case['branch'][:,BR_R]+1j*case['branch'][:,BR_X])\n",
    "gs = np.real(ys)\n",
    "bs = np.imag(ys)\n",
    "gsh = case['bus'][:,GS]/case['baseMVA']\n",
    "bsh = case['bus'][:,BS]/case['baseMVA']\n",
    "bc = case_int['branch'][:,BR_B]\n",
    "\n",
    "Ybus, Yf, Yt = makeYbus(case_int['baseMVA'], case_int['bus'], case_int['branch'])\n",
    "# To numpy\n",
    "Ybus = scipy.sparse.csr_matrix.todense(Ybus).getA()\n",
    "Yf = scipy.sparse.csr_matrix.todense(Yf).getA()\n",
    "Yt = scipy.sparse.csr_matrix.todense(Yt).getA()\n",
    "# Branch Incidence Matrix\n",
    "f_bus = case_int['branch'][:, 0].astype('int')        # list of \"from\" buses\n",
    "t_bus = case_int['branch'][:, 1].astype('int')        # list of \"to\" buses\n",
    "\n",
    "no_bus = len(case['bus'])\n",
    "no_brh = len(case['branch'])\n",
    "\n",
    "Cf = np.zeros((no_brh,no_bus))         # \"from\" bus incidence matrix\n",
    "Ct = np.zeros((no_brh,no_bus))         # \"to\" bus incidence matrix\n",
    "for i in range(no_brh):\n",
    "    Cf[i,f_bus[i]] = 1\n",
    "    Ct[i,t_bus[i]] = 1\n",
    "A = Cf-Ct"
   ]
  },
  {
   "cell_type": "code",
   "execution_count": 333,
   "metadata": {},
   "outputs": [
    {
     "name": "stdout",
     "output_type": "stream",
     "text": [
      "PYPOWER Version 5.1.4, 27-June-2018 -- AC Optimal Power Flow\n",
      "Python Interior Point Solver - PIPS, Version 1.0, 07-Feb-2011\n",
      "Converged!\n",
      "\n",
      "Converged in 0.76 seconds\n",
      "Objective Function Value = 8082.58 $/hr\n",
      "================================================================================\n",
      "|     System Summary                                                           |\n",
      "================================================================================\n",
      "\n",
      "How many?                How much?              P (MW)            Q (MVAr)\n",
      "---------------------    -------------------  -------------  -----------------\n",
      "Buses             14     Total Gen Capacity     772.4         -52.0 to 148.0\n",
      "Generators         5     On-line Capacity       772.4         -52.0 to 148.0\n",
      "Committed Gens     5     Generation (actual)    268.3              89.8\n",
      "Loads             11     Load                   259.0              73.5\n",
      "  Fixed           11       Fixed                259.0              73.5\n",
      "  Dispatchable     0       Dispatchable           0.0 of 0.0        0.0\n",
      "Shunts             0     Shunt (inj)              0.0               0.0\n",
      "Branches          20     Losses (I^2 * Z)         9.30             40.67\n",
      "Transformers       0     Branch Charging (inj)     -               24.4\n",
      "Inter-ties         0     Total Inter-tie Flow     0.0               0.0\n",
      "Areas              1\n",
      "\n",
      "                          Minimum                      Maximum\n",
      "                 -------------------------  --------------------------------\n",
      "Voltage Magnitude   0.977 p.u. @ bus 14         1.060 p.u. @ bus 1   \n",
      "Voltage Angle     -14.85 deg   @ bus 14         0.00 deg   @ bus 1   \n",
      "P Losses (I^2*R)             -                  2.89 MW    @ line 1-2\n",
      "Q Losses (I^2*X)             -                  8.82 MVAr  @ line 1-2\n",
      "Lambda P           36.72 $/MWh @ bus 1         41.34 $/MWh @ bus 14  \n",
      "Lambda Q           -0.17 $/MWh @ bus 1          0.73 $/MWh @ bus 14  \n",
      "\n",
      "================================================================================\n",
      "|     Bus Data                                                                 |\n",
      "================================================================================\n",
      " Bus      Voltage          Generation             Load          Lambda($/MVA-hr)\n",
      "  #   Mag(pu) Ang(deg)   P (MW)   Q (MVAr)   P (MW)   Q (MVAr)     P        Q   \n",
      "----- ------- --------  --------  --------  --------  --------  -------  -------\n",
      "    1  1.060    0.000*   194.24      0.00       -         -      36.716  -0.171\n",
      "    2  1.040   -4.000     36.72     16.92     21.70     12.70    38.358     -\n",
      "    3  1.016   -9.922     28.83     24.89     94.20     19.00    40.577     -\n",
      "    4  1.015   -8.671       -         -       47.80     -3.90    40.202   0.141\n",
      "    5  1.020   -7.473       -         -        7.60      1.60    39.666   0.148\n",
      "    6  1.016  -13.242      0.00     24.00     11.20      7.50    39.768   0.047\n",
      "    7  1.019  -11.391       -         -         -         -      40.177   0.260\n",
      "    8  1.059  -10.594      8.52     24.00       -         -      40.170   0.241\n",
      "    9  0.997  -13.376       -         -       29.50     16.60    40.175   0.337\n",
      "   10  0.993  -13.669       -         -        9.00      5.80    40.352   0.451\n",
      "   11  1.001  -13.594       -         -        3.50      1.80    40.200   0.332\n",
      "   12  1.000  -14.149       -         -        6.10      1.60    40.474   0.284\n",
      "   13  0.995  -14.187       -         -       13.50      5.80    40.682   0.449\n",
      "   14  0.977  -14.849       -         -       14.90      5.00    41.340   0.728\n",
      "                        --------  --------  --------  --------\n",
      "               Total:    268.30     89.81    259.00     73.50\n",
      "\n",
      "================================================================================\n",
      "|     Branch Data                                                              |\n",
      "================================================================================\n",
      "Brnch   From   To    From Bus Injection   To Bus Injection     Loss (I^2 * Z)  \n",
      "  #     Bus    Bus    P (MW)   Q (MVAr)   P (MW)   Q (MVAr)   P (MW)   Q (MVAr)\n",
      "-----  -----  -----  --------  --------  --------  --------  --------  --------\n",
      "   0      1      2    129.41     -4.54   -126.52      7.54     2.889      8.82\n",
      "   1      1      5     64.83      4.54    -62.78     -1.41     2.047      8.45\n",
      "   2      2      3     55.54     -0.44    -54.19      1.46     1.342      5.65\n",
      "   3      2      4     48.84     -1.61    -47.56      1.91     1.282      3.89\n",
      "   4      2      5     37.16     -1.27    -36.43     -0.18     0.728      2.22\n",
      "   5      3      4    -11.18      4.43     11.28     -5.50     0.098      0.25\n",
      "   6      4      5    -49.94      4.74     50.26     -3.71     0.326      1.03\n",
      "   7      4      7     23.48     -1.18    -23.48      2.30    -0.000      1.12\n",
      "   8      4      9     14.94      3.93    -14.94     -2.64    -0.000      1.29\n",
      "   9      5      6     41.35      3.71    -41.35      0.47    -0.000      4.17\n",
      "  10      6     11      5.62      5.19     -5.57     -5.08     0.054      0.11\n",
      "  11      6     12      7.62      2.76     -7.54     -2.60     0.078      0.16\n",
      "  12      6     13     16.91      8.08    -16.69     -7.64     0.225      0.44\n",
      "  13      7      8     -8.52    -22.98      8.52     24.00    -0.000      1.02\n",
      "  14      7      9     32.00     20.68    -32.00    -19.14    -0.000      1.54\n",
      "  15      9     10      6.96      2.60     -6.94     -2.55     0.018      0.05\n",
      "  16      9     14     10.48      2.59    -10.33     -2.27     0.149      0.32\n",
      "  17     10     11     -2.06     -3.25      2.07      3.28     0.012      0.03\n",
      "  18     12     13      1.44      1.00     -1.43     -1.00     0.007      0.01\n",
      "  19     13     14      4.62      2.83     -4.57     -2.73     0.051      0.10\n",
      "                                                             --------  --------\n",
      "                                                    Total:     9.305     40.67\n",
      "\n",
      "================================================================================\n",
      "|     Generation Constraints                                                   |\n",
      "================================================================================\n",
      " Gen   Bus                Active Power Limits\n",
      "  #     #    Pmin mu    Pmin       Pg       Pmax    Pmax mu\n",
      "----  -----  -------  --------  --------  --------  -------\n",
      "   3     6    0.232      0.00      0.00    100.00      -  \n",
      "\n",
      "Gen  Bus              Reactive Power Limits\n",
      " #    #   Qmin mu    Qmin       Qg       Qmax    Qmax mu\n",
      "---  ---  -------  --------  --------  --------  -------\n",
      "  0    1   0.171      0.00      0.00     10.00      -  \n",
      "  3    6     -       -6.00     24.00     24.00    0.047\n",
      "  4    8     -       -6.00     24.00     24.00    0.241\n",
      "[ 1.29408306  0.648307    0.55536726  0.48840338  0.37158018 -0.1117923\n",
      " -0.49935361  0.23480407  0.14935962  0.41353356  0.05624287  0.07618532\n",
      "  0.16910727 -0.08523486  0.32003893  0.06959517  0.10480338 -0.02058136\n",
      "  0.01440359  0.0461929 ]\n"
     ]
    }
   ],
   "source": [
    "result = runopf(case)\n",
    "pf_result = result['branch'][:,PF]/100\n",
    "print(pf_result)"
   ]
  },
  {
   "cell_type": "code",
   "execution_count": 345,
   "metadata": {},
   "outputs": [],
   "source": [
    "# Active power\n",
    "# From complex power\n",
    "vmag = result['bus'][:,VM]\n",
    "vang = result['bus'][:,VA]*np.pi/180  # In radian\n",
    "vcomplex = vmag*np.exp(1j*vang)\n",
    "Sf = np.diag(Cf@vcomplex)@np.conjugate(Yf)@np.conjugate(vcomplex)\n",
    "Yf1 = np.diag(ys)@A+1j*np.diag(bc/2)@Cf\n",
    "Yf2 = np.diag(ys)@A\n",
    "Sf2 = np.diag(Cf@vcomplex)@np.conjugate(Yf2)@np.conjugate(vcomplex)\n",
    "\n",
    "Ybus1 = A.T@np.diag(ys)@A + 1j*Cf.T@np.diag(bc/2)@Cf + 1j*Ct.T@np.diag(bc/2)@Ct\n",
    "Ybus2 = A.T@np.diag(ys)@A"
   ]
  },
  {
   "cell_type": "code",
   "execution_count": 346,
   "metadata": {},
   "outputs": [
    {
     "data": {
      "text/plain": [
       "array([[0.+0.051j , 0.+0.j    , 0.+0.j    , 0.+0.j    , 0.+0.j    ,\n",
       "        0.+0.j    , 0.+0.j    , 0.+0.j    , 0.+0.j    , 0.+0.j    ,\n",
       "        0.+0.j    , 0.+0.j    , 0.+0.j    , 0.+0.j    ],\n",
       "       [0.+0.j    , 0.+0.0826j, 0.+0.j    , 0.+0.j    , 0.+0.j    ,\n",
       "        0.+0.j    , 0.+0.j    , 0.+0.j    , 0.+0.j    , 0.+0.j    ,\n",
       "        0.+0.j    , 0.+0.j    , 0.+0.j    , 0.+0.j    ],\n",
       "       [0.+0.j    , 0.+0.j    , 0.+0.0283j, 0.+0.j    , 0.+0.j    ,\n",
       "        0.+0.j    , 0.+0.j    , 0.+0.j    , 0.+0.j    , 0.+0.j    ,\n",
       "        0.+0.j    , 0.+0.j    , 0.+0.j    , 0.+0.j    ],\n",
       "       [0.+0.j    , 0.+0.j    , 0.+0.j    , 0.+0.0234j, 0.+0.j    ,\n",
       "        0.+0.j    , 0.+0.j    , 0.+0.j    , 0.+0.j    , 0.+0.j    ,\n",
       "        0.+0.j    , 0.+0.j    , 0.+0.j    , 0.+0.j    ],\n",
       "       [0.+0.j    , 0.+0.j    , 0.+0.j    , 0.+0.j    , 0.+0.0419j,\n",
       "        0.+0.j    , 0.+0.j    , 0.+0.j    , 0.+0.j    , 0.+0.j    ,\n",
       "        0.+0.j    , 0.+0.j    , 0.+0.j    , 0.+0.j    ],\n",
       "       [0.+0.j    , 0.+0.j    , 0.+0.j    , 0.+0.j    , 0.+0.j    ,\n",
       "        0.+0.j    , 0.+0.j    , 0.+0.j    , 0.+0.j    , 0.+0.j    ,\n",
       "        0.+0.j    , 0.+0.j    , 0.+0.j    , 0.+0.j    ],\n",
       "       [0.+0.j    , 0.+0.j    , 0.+0.j    , 0.+0.j    , 0.+0.j    ,\n",
       "        0.+0.j    , 0.+0.j    , 0.+0.j    , 0.+0.j    , 0.+0.j    ,\n",
       "        0.+0.j    , 0.+0.j    , 0.+0.j    , 0.+0.j    ],\n",
       "       [0.+0.j    , 0.+0.j    , 0.+0.j    , 0.+0.j    , 0.+0.j    ,\n",
       "        0.+0.j    , 0.+0.j    , 0.+0.j    , 0.+0.j    , 0.+0.j    ,\n",
       "        0.+0.j    , 0.+0.j    , 0.+0.j    , 0.+0.j    ],\n",
       "       [0.+0.j    , 0.+0.j    , 0.+0.j    , 0.+0.j    , 0.+0.j    ,\n",
       "        0.+0.j    , 0.+0.j    , 0.+0.j    , 0.+0.j    , 0.+0.j    ,\n",
       "        0.+0.j    , 0.+0.j    , 0.+0.j    , 0.+0.j    ],\n",
       "       [0.+0.j    , 0.+0.j    , 0.+0.j    , 0.+0.j    , 0.+0.j    ,\n",
       "        0.+0.j    , 0.+0.j    , 0.+0.j    , 0.+0.j    , 0.+0.j    ,\n",
       "        0.+0.j    , 0.+0.j    , 0.+0.j    , 0.+0.j    ],\n",
       "       [0.+0.j    , 0.+0.j    , 0.+0.j    , 0.+0.j    , 0.+0.j    ,\n",
       "        0.+0.j    , 0.+0.j    , 0.+0.j    , 0.+0.j    , 0.+0.j    ,\n",
       "        0.+0.j    , 0.+0.j    , 0.+0.j    , 0.+0.j    ],\n",
       "       [0.+0.j    , 0.+0.j    , 0.+0.j    , 0.+0.j    , 0.+0.j    ,\n",
       "        0.+0.j    , 0.+0.j    , 0.+0.j    , 0.+0.j    , 0.+0.j    ,\n",
       "        0.+0.j    , 0.+0.j    , 0.+0.j    , 0.+0.j    ],\n",
       "       [0.+0.j    , 0.+0.j    , 0.+0.j    , 0.+0.j    , 0.+0.j    ,\n",
       "        0.+0.j    , 0.+0.j    , 0.+0.j    , 0.+0.j    , 0.+0.j    ,\n",
       "        0.+0.j    , 0.+0.j    , 0.+0.j    , 0.+0.j    ],\n",
       "       [0.+0.j    , 0.+0.j    , 0.+0.j    , 0.+0.j    , 0.+0.j    ,\n",
       "        0.+0.j    , 0.+0.j    , 0.+0.j    , 0.+0.j    , 0.+0.j    ,\n",
       "        0.+0.j    , 0.+0.j    , 0.+0.j    , 0.+0.j    ]])"
      ]
     },
     "execution_count": 346,
     "metadata": {},
     "output_type": "execute_result"
    }
   ],
   "source": [
    "Ybus1 - Ybus2"
   ]
  },
  {
   "cell_type": "code",
   "execution_count": 337,
   "metadata": {},
   "outputs": [
    {
     "data": {
      "text/plain": [
       "array([-0.02966304, -0.02764056, -0.02367559, -0.01837831, -0.01870263,\n",
       "       -0.00661157,  0.        ,  0.        ,  0.        ,  0.        ,\n",
       "        0.        ,  0.        ,  0.        ,  0.        ,  0.        ,\n",
       "        0.        ,  0.        ,  0.        ,  0.        ,  0.        ])"
      ]
     },
     "execution_count": 337,
     "metadata": {},
     "output_type": "execute_result"
    }
   ],
   "source": [
    "np.imag(Sf) - np.imag(Sf2)"
   ]
  },
  {
   "cell_type": "code",
   "execution_count": 340,
   "metadata": {},
   "outputs": [
    {
     "data": {
      "text/plain": [
       "19.4980702"
      ]
     },
     "execution_count": 340,
     "metadata": {},
     "output_type": "execute_result"
    }
   ],
   "source": [
    "15.26308652 + 4.23498368"
   ]
  },
  {
   "cell_type": "code",
   "execution_count": 339,
   "metadata": {},
   "outputs": [
    {
     "data": {
      "text/plain": [
       "array([[-19.44707021,  15.26308652,   0.        ,   0.        ,\n",
       "          4.23498368,   0.        ,   0.        ,   0.        ,\n",
       "          0.        ,   0.        ,   0.        ,   0.        ,\n",
       "          0.        ,   0.        ],\n",
       "       [ 15.26308652, -30.2721154 ,   4.78186315,   5.11583833,\n",
       "          5.1939274 ,   0.        ,   0.        ,   0.        ,\n",
       "          0.        ,   0.        ,   0.        ,   0.        ,\n",
       "          0.        ,   0.        ],\n",
       "       [  0.        ,   4.78186315,  -9.82238013,   5.06881698,\n",
       "          0.        ,   0.        ,   0.        ,   0.        ,\n",
       "          0.        ,   0.        ,   0.        ,   0.        ,\n",
       "          0.        ,   0.        ],\n",
       "       [  0.        ,   5.11583833,   5.06881698, -38.31973174,\n",
       "         21.57855398,   0.        ,   4.78194338,   0.        ,\n",
       "          1.79797907,   0.        ,   0.        ,   0.        ,\n",
       "          0.        ,   0.        ],\n",
       "       [  4.23498368,   5.1939274 ,   0.        ,  21.57855398,\n",
       "        -34.93350411,   3.96793905,   0.        ,   0.        ,\n",
       "          0.        ,   0.        ,   0.        ,   0.        ,\n",
       "          0.        ,   0.        ],\n",
       "       [  0.        ,   0.        ,   0.        ,   0.        ,\n",
       "          3.96793905, -17.34073281,   0.        ,   0.        ,\n",
       "          0.        ,   0.        ,   4.09407434,   3.17596397,\n",
       "          6.10275545,   0.        ],\n",
       "       [  0.        ,   0.        ,   0.        ,   4.78194338,\n",
       "          0.        ,   0.        , -19.54900595,   5.67697985,\n",
       "          9.09008272,   0.        ,   0.        ,   0.        ,\n",
       "          0.        ,   0.        ],\n",
       "       [  0.        ,   0.        ,   0.        ,   0.        ,\n",
       "          0.        ,   0.        ,   5.67697985,  -5.67697985,\n",
       "          0.        ,   0.        ,   0.        ,   0.        ,\n",
       "          0.        ,   0.        ],\n",
       "       [  0.        ,   0.        ,   0.        ,   1.79797907,\n",
       "          0.        ,   0.        ,   9.09008272,   0.        ,\n",
       "        -24.28250638,  10.36539413,   0.        ,   0.        ,\n",
       "          0.        ,   3.02905046],\n",
       "       [  0.        ,   0.        ,   0.        ,   0.        ,\n",
       "          0.        ,   0.        ,   0.        ,   0.        ,\n",
       "         10.36539413, -14.76833788,   4.40294375,   0.        ,\n",
       "          0.        ,   0.        ],\n",
       "       [  0.        ,   0.        ,   0.        ,   0.        ,\n",
       "          0.        ,   4.09407434,   0.        ,   0.        ,\n",
       "          0.        ,   4.40294375,  -8.49701809,   0.        ,\n",
       "          0.        ,   0.        ],\n",
       "       [  0.        ,   0.        ,   0.        ,   0.        ,\n",
       "          0.        ,   3.17596397,   0.        ,   0.        ,\n",
       "          0.        ,   0.        ,   0.        ,  -5.42793859,\n",
       "          2.25197463,   0.        ],\n",
       "       [  0.        ,   0.        ,   0.        ,   0.        ,\n",
       "          0.        ,   6.10275545,   0.        ,   0.        ,\n",
       "          0.        ,   0.        ,   0.        ,   2.25197463,\n",
       "        -10.66969355,   2.31496348],\n",
       "       [  0.        ,   0.        ,   0.        ,   0.        ,\n",
       "          0.        ,   0.        ,   0.        ,   0.        ,\n",
       "          3.02905046,   0.        ,   0.        ,   0.        ,\n",
       "          2.31496348,  -5.34401393]])"
      ]
     },
     "execution_count": 339,
     "metadata": {},
     "output_type": "execute_result"
    }
   ],
   "source": [
    "np.imag(Ybus)"
   ]
  },
  {
   "cell_type": "code",
   "execution_count": 351,
   "metadata": {},
   "outputs": [
    {
     "data": {
      "text/plain": [
       "[<matplotlib.lines.Line2D at 0x7f9368b59b40>]"
      ]
     },
     "execution_count": 351,
     "metadata": {},
     "output_type": "execute_result"
    },
    {
     "data": {
      "image/png": "[encoded data removed]",
      "text/plain": [
       "<Figure size 432x288 with 1 Axes>"
      ]
     },
     "metadata": {
      "needs_background": "light"
     },
     "output_type": "display_data"
    }
   ],
   "source": [
    "# Active power\n",
    "# From complex power\n",
    "vmag = result['bus'][:,VM]\n",
    "vang = result['bus'][:,VA]*np.pi/180  # In radian\n",
    "vcomplex = vmag*np.exp(1j*vang)\n",
    "Sf = np.diag(Cf@vcomplex)@np.conjugate(Yf)@np.conjugate(vcomplex)\n",
    "\n",
    "# From active power\n",
    "Pf = -(np.diag(Cf@vmag)@np.diag(Ct@vmag)@(np.diag(gs)@np.cos(A@vang) + np.diag(bs-bc/2)@np.sin(A@vang)) - gs*(Cf@vmag**2))\n",
    "Qf = -(np.diag(Cf@vmag)@np.diag(Ct@vmag)@(np.diag(gs)@np.sin(A@vang) - np.diag(bs-bc/2)@np.cos(A@vang)) + bs*(Cf@vmag**2))\n",
    "plt.plot(Qf)\n",
    "plt.plot(np.imag(Sf))"
   ]
  },
  {
   "cell_type": "code",
   "execution_count": 352,
   "metadata": {},
   "outputs": [
    {
     "data": {
      "text/plain": [
       "array([-6.37582737e-04, -1.26220922e-03, -6.55299381e-04, -4.89311899e-04,\n",
       "       -3.84250664e-04, -7.79263340e-06, -7.10542736e-15, -8.88178420e-16,\n",
       "       -2.22044605e-16,  0.00000000e+00,  0.00000000e+00, -5.23886490e-16,\n",
       "        0.00000000e+00, -8.88178420e-16, -2.80331314e-15,  0.00000000e+00,\n",
       "        4.44089210e-16,  0.00000000e+00,  0.00000000e+00,  4.44089210e-16])"
      ]
     },
     "execution_count": 352,
     "metadata": {},
     "output_type": "execute_result"
    }
   ],
   "source": [
    "np.imag(Sf) - Qf"
   ]
  },
  {
   "cell_type": "code",
   "execution_count": 298,
   "metadata": {},
   "outputs": [
    {
     "data": {
      "text/plain": [
       "array([ 0.00000000e+00,  5.55111512e-17,  2.77555756e-16, -3.33066907e-16,\n",
       "        1.11022302e-16,  8.88178420e-16, -2.77555756e-17,  4.30211422e-16,\n",
       "       -8.67361738e-19,  6.76542156e-17,  3.33066907e-16,  0.00000000e+00,\n",
       "       -2.22044605e-16,  4.44089210e-16,  5.55111512e-17, -4.44089210e-16,\n",
       "        1.11022302e-16, -3.33066907e-16, -6.66133815e-16,  5.55111512e-17])"
      ]
     },
     "execution_count": 298,
     "metadata": {},
     "output_type": "execute_result"
    }
   ],
   "source": [
    "Pf - pf_result"
   ]
  },
  {
   "cell_type": "code",
   "execution_count": 258,
   "metadata": {},
   "outputs": [
    {
     "data": {
      "text/plain": [
       "<matplotlib.legend.Legend at 0x7f9367f02fb0>"
      ]
     },
     "execution_count": 258,
     "metadata": {},
     "output_type": "execute_result"
    },
    {
     "data": {
      "image/png": "[encoded data removed]",
      "text/plain": [
       "<Figure size 432x288 with 1 Axes>"
      ]
     },
     "metadata": {
      "needs_background": "light"
     },
     "output_type": "display_data"
    }
   ],
   "source": [
    "import matplotlib.pyplot as plt\n",
    "plt.plot(np.real(Sf), label = 'complex')\n",
    "plt.plot(Pf, label = 'direct')\n",
    "plt.legend()"
   ]
  },
  {
   "cell_type": "code",
   "execution_count": 259,
   "metadata": {},
   "outputs": [
    {
     "data": {
      "text/plain": [
       "array([-8.88178420e-16,  0.00000000e+00, -7.21644966e-15, -9.54791801e-15,\n",
       "        1.11022302e-15,  8.88178420e-16,  3.01980663e-14, -6.17353793e-03,\n",
       "       -4.97473850e-03, -2.99547367e-02,  3.06421555e-14,  1.12354570e-13,\n",
       "       -2.44249065e-14,  2.84876289e-14,  4.44089210e-15, -3.90798505e-14,\n",
       "        5.10702591e-15,  4.08562073e-14,  8.88178420e-16,  7.99360578e-15])"
      ]
     },
     "execution_count": 259,
     "metadata": {},
     "output_type": "execute_result"
    }
   ],
   "source": [
    "Pf - np.real(Sf)"
   ]
  },
  {
   "cell_type": "code",
   "execution_count": 262,
   "metadata": {},
   "outputs": [
    {
     "data": {
      "text/plain": [
       "array([-15.26308652,  -4.23498368,  -4.78186315,  -5.11583833,\n",
       "        -5.1939274 ,  -5.06881698, -21.57855398,  -4.78194338,\n",
       "        -1.79797907,  -3.96793905,  -4.09407434,  -3.17596397,\n",
       "        -6.10275545,  -5.67697985,  -9.09008272, -10.36539413,\n",
       "        -3.02905046,  -4.40294375,  -2.25197463,  -2.31496348])"
      ]
     },
     "execution_count": 262,
     "metadata": {},
     "output_type": "execute_result"
    }
   ],
   "source": [
    "bs"
   ]
  },
  {
   "cell_type": "code",
   "execution_count": 266,
   "metadata": {},
   "outputs": [
    {
     "data": {
      "text/plain": [
       "array([[ 984.73691348,   15.26308652,    0.        ,    0.        ,\n",
       "           0.        ,    0.        ,    0.        ,    0.        ,\n",
       "           0.        ,    0.        ,    0.        ,    0.        ,\n",
       "           0.        ,    0.        ],\n",
       "       [ 995.76501632,    0.        ,    0.        ,    0.        ,\n",
       "           4.23498368,    0.        ,    0.        ,    0.        ,\n",
       "           0.        ,    0.        ,    0.        ,    0.        ,\n",
       "           0.        ,    0.        ],\n",
       "       [   0.        ,  995.21813685,    4.78186315,    0.        ,\n",
       "           0.        ,    0.        ,    0.        ,    0.        ,\n",
       "           0.        ,    0.        ,    0.        ,    0.        ,\n",
       "           0.        ,    0.        ],\n",
       "       [   0.        ,  994.88416167,    0.        ,    5.11583833,\n",
       "           0.        ,    0.        ,    0.        ,    0.        ,\n",
       "           0.        ,    0.        ,    0.        ,    0.        ,\n",
       "           0.        ,    0.        ],\n",
       "       [   0.        ,  994.8060726 ,    0.        ,    0.        ,\n",
       "           5.1939274 ,    0.        ,    0.        ,    0.        ,\n",
       "           0.        ,    0.        ,    0.        ,    0.        ,\n",
       "           0.        ,    0.        ],\n",
       "       [   0.        ,    0.        ,  994.93118302,    5.06881698,\n",
       "           0.        ,    0.        ,    0.        ,    0.        ,\n",
       "           0.        ,    0.        ,    0.        ,    0.        ,\n",
       "           0.        ,    0.        ],\n",
       "       [   0.        ,    0.        ,    0.        ,  978.42144602,\n",
       "          21.57855398,    0.        ,    0.        ,    0.        ,\n",
       "           0.        ,    0.        ,    0.        ,    0.        ,\n",
       "           0.        ,    0.        ],\n",
       "       [   0.        ,    0.        ,    0.        , 1040.49629332,\n",
       "           0.        ,    0.        ,    4.88951266,    0.        ,\n",
       "           0.        ,    0.        ,    0.        ,    0.        ,\n",
       "           0.        ,    0.        ],\n",
       "       [   0.        ,    0.        ,    0.        , 1063.0920996 ,\n",
       "           0.        ,    0.        ,    0.        ,    0.        ,\n",
       "           1.85549956,    0.        ,    0.        ,    0.        ,\n",
       "           0.        ,    0.        ],\n",
       "       [   0.        ,    0.        ,    0.        ,    0.        ,\n",
       "        1146.67803439,    4.25744534,    0.        ,    0.        ,\n",
       "           0.        ,    0.        ,    0.        ,    0.        ,\n",
       "           0.        ,    0.        ],\n",
       "       [   0.        ,    0.        ,    0.        ,    0.        ,\n",
       "           0.        ,  995.90592566,    0.        ,    0.        ,\n",
       "           0.        ,    0.        ,    4.09407434,    0.        ,\n",
       "           0.        ,    0.        ],\n",
       "       [   0.        ,    0.        ,    0.        ,    0.        ,\n",
       "           0.        ,  996.82403603,    0.        ,    0.        ,\n",
       "           0.        ,    0.        ,    0.        ,    3.17596397,\n",
       "           0.        ,    0.        ],\n",
       "       [   0.        ,    0.        ,    0.        ,    0.        ,\n",
       "           0.        ,  993.89724455,    0.        ,    0.        ,\n",
       "           0.        ,    0.        ,    0.        ,    0.        ,\n",
       "           6.10275545,    0.        ],\n",
       "       [   0.        ,    0.        ,    0.        ,    0.        ,\n",
       "           0.        ,    0.        ,  994.32302015,    5.67697985,\n",
       "           0.        ,    0.        ,    0.        ,    0.        ,\n",
       "           0.        ,    0.        ],\n",
       "       [   0.        ,    0.        ,    0.        ,    0.        ,\n",
       "           0.        ,    0.        ,  990.90991728,    0.        ,\n",
       "           9.09008272,    0.        ,    0.        ,    0.        ,\n",
       "           0.        ,    0.        ],\n",
       "       [   0.        ,    0.        ,    0.        ,    0.        ,\n",
       "           0.        ,    0.        ,    0.        ,    0.        ,\n",
       "         989.63460587,   10.36539413,    0.        ,    0.        ,\n",
       "           0.        ,    0.        ],\n",
       "       [   0.        ,    0.        ,    0.        ,    0.        ,\n",
       "           0.        ,    0.        ,    0.        ,    0.        ,\n",
       "         996.97094954,    0.        ,    0.        ,    0.        ,\n",
       "           0.        ,    3.02905046],\n",
       "       [   0.        ,    0.        ,    0.        ,    0.        ,\n",
       "           0.        ,    0.        ,    0.        ,    0.        ,\n",
       "           0.        ,  995.59705625,    4.40294375,    0.        ,\n",
       "           0.        ,    0.        ],\n",
       "       [   0.        ,    0.        ,    0.        ,    0.        ,\n",
       "           0.        ,    0.        ,    0.        ,    0.        ,\n",
       "           0.        ,    0.        ,    0.        ,  997.74802537,\n",
       "           2.25197463,    0.        ],\n",
       "       [   0.        ,    0.        ,    0.        ,    0.        ,\n",
       "           0.        ,    0.        ,    0.        ,    0.        ,\n",
       "           0.        ,    0.        ,    0.        ,    0.        ,\n",
       "         997.68503652,    2.31496348]])"
      ]
     },
     "execution_count": 266,
     "metadata": {},
     "output_type": "execute_result"
    }
   ],
   "source": [
    "np.imag(Yf)"
   ]
  },
  {
   "cell_type": "code",
   "execution_count": null,
   "metadata": {},
   "outputs": [],
   "source": []
  }
 ],
 "metadata": {
  "kernelspec": {
   "display_name": "Python 3.9.12 ('event_trigger_mtd')",
   "language": "python",
   "name": "python3"
  },
  "language_info": {
   "codemirror_mode": {
    "name": "ipython",
    "version": 3
   },
   "file_extension": ".py",
   "mimetype": "text/x-python",
   "name": "python",
   "nbconvert_exporter": "python",
   "pygments_lexer": "ipython3",
   "version": "3.9.12"
  },
  "orig_nbformat": 4,
  "vscode": {
   "interpreter": {
    "hash": "7dac1cb1ce86535b23df7051fbd88cb254e53683203cb38e019b53c60e510804"
   }
  }
 },
 "nbformat": 4,
 "nbformat_minor": 2
}
