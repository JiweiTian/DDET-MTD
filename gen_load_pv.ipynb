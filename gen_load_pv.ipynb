{
 "cells": [
  {
   "cell_type": "code",
   "execution_count": 11,
   "metadata": {},
   "outputs": [
    {
     "name": "stdout",
     "output_type": "stream",
     "text": [
      "{'PF_ALG': 1, 'PF_TOL': 1e-08, 'PF_MAX_IT': 10, 'PF_MAX_IT_FD': 30, 'PF_MAX_IT_GS': 1000, 'ENFORCE_Q_LIMS': False, 'PF_DC': False, 'CPF_PARAMETERIZATION': 3, 'CPF_STOP_AT': 'NOSE', 'CPF_STEP': 0.05, 'CPF_ADAPT_STEP': False, 'CPF_ERROR_TOL': 0.001, 'CPF_STEP_MIN': 0.0001, 'CPF_STEP_MAX': 0.2, 'CPF_PLOT_LEVEL': 0, 'CPF_PLOT_BUS': '', 'CPF_USER_CALLBACK': '', 'CPF_USER_CALLBACK_ARGS': '', 'OPF_ALG': 0, 'OPF_VIOLATION': 0.0005, 'OPF_FLOW_LIM': 1, 'OPF_IGNORE_ANG_LIM': False, 'OPF_ALG_DC': 0, 'VERBOSE': 0, 'OUT_ALL': 0, 'OUT_SYS_SUM': True, 'OUT_AREA_SUM': False, 'OUT_BUS': True, 'OUT_BRANCH': True, 'OUT_GEN': False, 'OUT_ALL_LIM': -1, 'OUT_V_LIM': 1, 'OUT_LINE_LIM': 1, 'OUT_PG_LIM': 1, 'OUT_QG_LIM': 1, 'RETURN_RAW_DER': 0, 'PDIPM_FEASTOL': 0, 'PDIPM_GRADTOL': 1e-06, 'PDIPM_COMPTOL': 1e-06, 'PDIPM_COSTTOL': 1e-06, 'PDIPM_MAX_IT': 150, 'SCPDIPM_RED_IT': 20}\n",
      "{'case_name': 'case14', 'load_resolution': '5min', 'fpr': 0.02, 'noise_ratio_power': 0.02, 'noise_ratio_voltage': 0.001, 'pv_bus': array([ 3,  4, 10, 12]), 'measure_type': 'HALF_RTU'}\n"
     ]
    }
   ],
   "source": [
    "import numpy as np\n",
    "import pandas as pd\n",
    "from gen_data.gen_data import improve_resolution, add_cloud, gen_case, gen_load, gen_pv, gen_measure\n",
    "from configs.config import sys_config, opt\n",
    "from pypower.api import runopf\n",
    "from utils.class_se import SE\n",
    "from configs.config_mea_idx import define_mea_idx_noise\n",
    "import matplotlib.pyplot as plt\n",
    "\n",
    "print(opt)\n",
    "print(sys_config)"
   ]
  },
  {
   "cell_type": "code",
   "execution_count": 3,
   "metadata": {},
   "outputs": [],
   "source": [
    "# Load raw data\n",
    "raw_load_dir = 'gen_data/raw_data/load.csv'\n",
    "raw_pv_dir = 'gen_data/raw_data/pv.csv'\n",
    "raw_load = pd.read_csv(raw_load_dir)\n",
    "raw_pv = pd.read_csv(raw_pv_dir)\n",
    "raw_load = raw_load[(raw_load['DateTime'] <= '2012-09-30 23:45:00') & (raw_load['DateTime'] >= '2012-06-00 00:00:00')]\n",
    "raw_pv = raw_pv[(raw_pv['DateTime'] <= '2019-09-30 23:45:00') & (raw_pv['DateTime'] >= '2019-06-00 00:00:00')]\n",
    "raw_load.reset_index(inplace=True, drop=True)\n",
    "raw_pv.reset_index(inplace=True, drop = True)"
   ]
  },
  {
   "cell_type": "code",
   "execution_count": 4,
   "metadata": {},
   "outputs": [],
   "source": [
    "# Improve data resolution\n",
    "high_load_dir = 'gen_data/raw_data/load_high.csv'\n",
    "high_pv_dir = 'gen_data/raw_data/pv_high.csv'\n",
    "load_high, pv_high = improve_resolution(load_raw = raw_load, pv_raw = raw_pv, res = '5min')\n",
    "\n",
    "# Add cloud (large deviations) to the pv dat\n",
    "pv_new = add_cloud(pv_high, unchange_rate=0.5, max_reduce=0.8)\n",
    "\n",
    "# Save\n",
    "#load_high.to_csv(high_load_dir, index=False)\n",
    "#pv_high.to_csv(high_pv_dir, index=False)"
   ]
  },
  {
   "cell_type": "code",
   "execution_count": 5,
   "metadata": {},
   "outputs": [
    {
     "name": "stdout",
     "output_type": "stream",
     "text": [
      "Default active load: [  0.    54.25 235.5  119.5   19.    28.    75.    75.    73.75  22.5\n",
      "   8.75  15.25  33.75  37.25]\n",
      "Default reactive load: [ 0.  12.7 19.  -3.9  1.6  7.5  0.   0.  16.6  5.8  1.8  1.6  5.8  5. ]\n",
      "Default total active load: 797.5\n",
      "Default generation limit: 772.4\n",
      "Success: False\n",
      "Voltage phase angle: [  0.          -5.65621323 -15.70237604 -14.21631462 -11.56732536\n",
      " -15.78823337 -21.03030736 -18.45556237 -22.75527478 -22.22793426\n",
      " -19.33417167 -18.08111832 -18.71131473 -23.3454873 ]\n"
     ]
    }
   ],
   "source": [
    "# Modify case\n",
    "case = gen_case(sys_config['case_name'])\n",
    "print(f'Default active load: {case[\"bus\"][:,2]}')\n",
    "print(f'Default reactive load: {case[\"bus\"][:,3]}')\n",
    "print(f'Default total active load: {case[\"bus\"][:,2].sum()}')\n",
    "print(f'Default generation limit: {case[\"gen\"][:,8].sum()}')\n",
    "# Test OPF on it\n",
    "result = runopf(case, opt)\n",
    "print(f'Success: {result[\"success\"]}')\n",
    "print(f'Voltage phase angle: {result[\"bus\"][:,8]}')"
   ]
  },
  {
   "cell_type": "code",
   "execution_count": 6,
   "metadata": {},
   "outputs": [],
   "source": [
    "# Generate load for case\n",
    "high_load_dir = 'gen_data/raw_data/load_high.csv'\n",
    "high_pv_dir = 'gen_data/raw_data/pv_high.csv'\n",
    "\n",
    "load_high = pd.read_csv(high_load_dir)\n",
    "pv_high = pd.read_csv(high_pv_dir)\n",
    "\n",
    "load_active_dir = f'gen_data\\{sys_config[\"case_name\"]}\\load_active.npy'\n",
    "load_reactive_dir = f'gen_data\\{sys_config[\"case_name\"]}\\load_reactive.npy'\n",
    "load_active, load_reactive = gen_load(case = case, load_raw = load_high)\n",
    "#np.save(load_active_dir, load_active, allow_pickle=True)\n",
    "#np.save(load_reactive_dir, load_reactive, allow_pickle=True)\n",
    "\n",
    "pv_active_dir = f'gen_data\\{sys_config[\"case_name\"]}\\pv_active.npy'\n",
    "pv_reactive_dir = f'gen_data\\{sys_config[\"case_name\"]}\\pv_reactive.npy'\n",
    "pv_active, pv_reactive = gen_pv(sys_config['pv_bus'], pv_high, load_active, penetration_ratio = 0.3)\n",
    "#np.save(pv_active_dir, pv_active, allow_pickle=True)\n",
    "#np.save(pv_reactive_dir, pv_reactive, allow_pickle=True)"
   ]
  },
  {
   "cell_type": "code",
   "execution_count": 8,
   "metadata": {},
   "outputs": [
    {
     "name": "stdout",
     "output_type": "stream",
     "text": [
      "Max active load: 582.6279883399718\n",
      "Max pv load: 174.7883965019915\n",
      "PV penetration: 0.29999999999999993\n",
      "z shape: (68, 1)\n"
     ]
    },
    {
     "data": {
      "text/plain": [
       "[<matplotlib.lines.Line2D at 0x7f4e04cce7f0>]"
      ]
     },
     "execution_count": 8,
     "metadata": {},
     "output_type": "execute_result"
    },
    {
     "data": {
      "image/png": "[encoded data removed]",
      "text/plain": [
       "<Figure size 432x288 with 1 Axes>"
      ]
     },
     "metadata": {
      "needs_background": "light"
     },
     "output_type": "display_data"
    }
   ],
   "source": [
    "# Test if the maximum loads can converge in OPF\n",
    "case = gen_case(sys_config['case_name'])\n",
    "load_active_dir = f'gen_data/{sys_config[\"case_name\"]}/load_active.npy'\n",
    "load_reactive_dir = f'gen_data/{sys_config[\"case_name\"]}/load_reactive.npy'\n",
    "\n",
    "pv_active_dir = f'gen_data/{sys_config[\"case_name\"]}/pv_active.npy'\n",
    "pv_reactive_dir = f'gen_data/{sys_config[\"case_name\"]}/pv_reactive.npy'\n",
    "\n",
    "noise_sigma_dir = f'gen_data/{sys_config[\"case_name\"]}/noise_sigma.npy'\n",
    "\n",
    "load_active = np.load(load_active_dir)\n",
    "load_reactive = np.load(load_reactive_dir)\n",
    "\n",
    "pv_active = np.load(pv_active_dir)\n",
    "pv_reactive = np.load(pv_reactive_dir)\n",
    "\n",
    "# Analysis\n",
    "load_max = np.max(np.sum(load_active, axis = 1))\n",
    "print(f'Max active load: {load_max}')\n",
    "pv_max = np.max(np.sum(pv_active, axis = 1))\n",
    "print(f'Max pv load: {pv_max}')\n",
    "print(f'PV penetration: {pv_max/load_max}')\n",
    "\n",
    "# Generate noise sigma\n",
    "idx, no_mea, noise_sigma = define_mea_idx_noise(case, choice = sys_config['measure_type'])\n",
    "case_class = SE(case, noise_sigma, idx, fpr = sys_config['fpr'])\n",
    "result = case_class.run_opf(verbose=False)\n",
    "z, z_noise, vang_ref, vmag_ref = case_class.construct_mea(result)\n",
    "print(f'z shape: {z_noise.shape}')\n",
    "noise_sigma = np.abs(z * sys_config['noise_ratio_power']).flatten() + 1e-3\n",
    "#np.save(noise_sigma_dir, noise_sigma, allow_pickle=True)\n",
    "plt.plot(noise_sigma)"
   ]
  },
  {
   "cell_type": "code",
   "execution_count": 10,
   "metadata": {},
   "outputs": [
    {
     "name": "stdout",
     "output_type": "stream",
     "text": [
      "True\n",
      "Voltage angle: [ 0.         -0.0745777  -0.18425626 -0.15516804 -0.12961976 -0.20633625\n",
      " -0.19371142 -0.13625724 -0.22392069 -0.22510798 -0.21872675 -0.22216505\n",
      " -0.22471583 -0.24458601]\n",
      "total load: 575.4147047709449\n",
      "True\n",
      "total load: 570.2323340055104\n",
      "True\n",
      "total load: 568.9799803256682\n",
      "True\n",
      "total load: 568.5910048448958\n",
      "True\n",
      "total load: 567.6804255549789\n",
      "True\n",
      "total load: 566.0975120449448\n",
      "True\n",
      "total load: 565.4247274294111\n",
      "True\n",
      "total load: 565.2204259385719\n",
      "True\n",
      "total load: 565.0539753302744\n",
      "True\n",
      "total load: 564.4193616259566\n",
      "True\n"
     ]
    }
   ],
   "source": [
    "noise_sigma_dir = f'gen_data/{sys_config[\"case_name\"]}/noise_sigma.npy'\n",
    "case = gen_case(sys_config['case_name'])\n",
    "idx, no_mea, noise_sigma = define_mea_idx_noise(case, choice = sys_config['measure_type'])\n",
    "noise_sigma = np.load(noise_sigma_dir)\n",
    "case_class = SE(case, noise_sigma, idx, fpr = sys_config['fpr'])\n",
    "\n",
    "load_active_dir = f'gen_data/{sys_config[\"case_name\"]}/load_active.npy'\n",
    "load_reactive_dir = f'gen_data/{sys_config[\"case_name\"]}/load_reactive.npy'\n",
    "pv_active_dir = f'gen_data/{sys_config[\"case_name\"]}/pv_active.npy'\n",
    "pv_reactive_dir = f'gen_data/{sys_config[\"case_name\"]}/pv_reactive.npy'\n",
    "\n",
    "load_active = np.load(load_active_dir)\n",
    "load_reactive = np.load(load_reactive_dir)\n",
    "pv_active = np.load(pv_active_dir)\n",
    "pv_reactive = np.load(pv_reactive_dir)\n",
    "\n",
    "pv_active_ = np.zeros((load_active.shape[0], load_reactive.shape[1]))\n",
    "pv_reactive_ = np.zeros((load_reactive.shape[0], load_reactive.shape[1]))\n",
    "pv_active_[:,sys_config['pv_bus']] = pv_active\n",
    "pv_reactive_[:,sys_config['pv_bus']] = pv_reactive\n",
    "\n",
    "largest_load_idx = np.flip(np.argsort(np.sum(load_active - pv_active_, axis = 1)))[:10]\n",
    "\n",
    "for i in range(10):\n",
    "    result = case_class.run_opf(verbose=False, load_active = load_active[i] - pv_active_[i], load_reactive = load_reactive[i])\n",
    "    print(result['success'])\n",
    "    print(f'Voltage angle: {result[\"bus\"][:,8]*np.pi/180}')\n",
    "    break\n",
    "\n",
    "\"\"\"\n",
    "To make sure the largest load case can converge\n",
    "\"\"\"\n",
    "\n",
    "for i in largest_load_idx:\n",
    "    result = case_class.run_opf(verbose=False, load_active = load_active[i] - pv_active_[i], load_reactive = load_reactive[i])\n",
    "    print(f'total load: {np.sum(load_active[i] - pv_active_[i])}')\n",
    "    print(result['success'])"
   ]
  }
 ],
 "metadata": {
  "kernelspec": {
   "display_name": "Python 3.9.12 ('event_trigger_mtd')",
   "language": "python",
   "name": "python3"
  },
  "language_info": {
   "codemirror_mode": {
    "name": "ipython",
    "version": 3
   },
   "file_extension": ".py",
   "mimetype": "text/x-python",
   "name": "python",
   "nbconvert_exporter": "python",
   "pygments_lexer": "ipython3",
   "version": "3.9.12"
  },
  "orig_nbformat": 4,
  "vscode": {
   "interpreter": {
    "hash": "7dac1cb1ce86535b23df7051fbd88cb254e53683203cb38e019b53c60e510804"
   }
  }
 },
 "nbformat": 4,
 "nbformat_minor": 2
}
